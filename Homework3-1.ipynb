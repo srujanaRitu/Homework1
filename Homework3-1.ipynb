{
 "cells": [
  {
   "cell_type": "markdown",
   "metadata": {},
   "source": []
  },
  {
   "cell_type": "markdown",
   "metadata": {
    "vscode": {
     "languageId": "xml"
    }
   },
   "source": [
    "### 1. What is an algorithm?\n",
    "\n",
    "An algorithm is a series of steps to solve a problem at hand\n",
    "\n",
    "### 2. Variable names may not start with certain characters - name two.\n",
    "\n",
    "* A variable name cannot start with a number.\n",
    "\n",
    "* Variable names cannot start with special characters such as @, $, or #.\n",
    "\n",
    "\n",
    "### 3. What is a Semantic error?\n",
    "\n",
    "Code is grammatically correct but doesn't make any sense; it does not produce the expected results\n",
    "\n",
    "### 4. What is the #1 rule of coding / debugging?\n",
    "\n",
    "Chunk code into smaller sections and make sure each section works\n",
    "\n",
    "\n",
    "### 5. List 5 Python reserved words.\n",
    "\n",
    "\n",
    "* FALSE, TRUE, pass,\n",
    "None,\telse.\n"
   ]
  },
  {
   "cell_type": "markdown",
   "metadata": {},
   "source": []
  },
  {
   "cell_type": "code",
   "execution_count": 9,
   "metadata": {},
   "outputs": [
    {
     "name": "stdout",
     "output_type": "stream",
     "text": [
      "The length of aname is ...  7\n",
      "a\n"
     ]
    }
   ],
   "source": [
    "# Write a multi-line string with your name, favorite food, and dream job on 3 different lines\n",
    "\n",
    "myName = \"Srujana\"\n",
    "favFood = \"Fish Curry\"\n",
    "dreamJob = \"Data Analyst\"\n",
    "\n",
    "# Assign 5 different data types to 5 different variables. At least one datatype must be a string\n",
    "\n",
    "\n",
    "name = \"Srujana\"\n",
    "age = 30\n",
    "height = 5.3\n",
    "is_student = False\n",
    "hobbies = [\"reading\", \"hiking\", \"music\"]\n",
    "\n",
    "\n",
    "\n",
    "# Print the length of your string\n",
    "\n",
    "print(\"The length of aname is ... \", len(name))\n",
    "\n",
    "# Print the index value of the 4th character in your string\n",
    "\n",
    "print(name[4]) \n",
    "\n",
    "\n"
   ]
  },
  {
   "cell_type": "code",
   "execution_count": 12,
   "metadata": {},
   "outputs": [
    {
     "name": "stdout",
     "output_type": "stream",
     "text": [
      "Learning Data Analytics and Python is Awesome!\n",
      "ing Data Analytics \n",
      "Learning Data Analytics and Python is great!\n",
      "True\n"
     ]
    }
   ],
   "source": [
    "# Create a new variable called savvy, and assign it the string with this phrase \"Learning Data Analytics and Python is Awesome!\"\n",
    "\n",
    "Savvy = \"Learning Data Analytics and Python is Awesome!\"\n",
    "print(Savvy)\n",
    "\n",
    "# Return a range of characters that slices the above string from the beginning of \"ing\" up to before \"and\"\n",
    "\n",
    "result = Savvy[Savvy.index(\"ing\"):Savvy.index(\"and\")]\n",
    "print(result)\n",
    "\n",
    "# Replace \"Awesome\" with \"great\" in the string\n",
    "\n",
    "replace = Savvy.replace(\"Awesome\",\"great\" )\n",
    "print(replace)\n",
    "\n",
    "# Test and print the savvy string to see it contains \"Python\"\n",
    "\n",
    "Contains_Python = \"Python\" in Savvy\n",
    "print(Contains_Python)\n"
   ]
  },
  {
   "cell_type": "code",
   "execution_count": 28,
   "metadata": {},
   "outputs": [
    {
     "name": "stdout",
     "output_type": "stream",
     "text": [
      "Name:Ritu, Age:7, Length:4\n",
      "Hi my name is Eric, I am 5.7 and 20 old today.\n",
      "7.0\n"
     ]
    }
   ],
   "source": [
    "# Create and assign 3 more variables called name, age and length using the multi-variable naming method\n",
    "\n",
    "name, age, length = (\"Ritu\", \"7\", len(\"Ritu\"))\n",
    "print(f\"Name:{name}, Age:{age}, Length:{length}\")\n",
    "\n",
    "\n",
    "\n",
    "# Format a new string called 'miniBio' using variables in curly brackets to complete this phrase... \"Hi my name is (name), I am (tall) and (so) old today.\"\n",
    "\n",
    "name = \"Eric\"\n",
    "tall = 5.7\n",
    "so = 20\n",
    "\n",
    "miniBio = f\"Hi my name is {name}, I am {tall} and {so} old today.\"\n",
    "\n",
    "# Print 'miniBio'\n",
    "\n",
    "print(miniBio)\n",
    "\n",
    "# Cast and print the age variable to a float\n",
    "\n",
    "i = float(age)\n",
    "print(i)\n",
    "\n",
    "\n"
   ]
  }
 ],
 "metadata": {
  "kernelspec": {
   "display_name": "Python 3",
   "language": "python",
   "name": "python3"
  },
  "language_info": {
   "codemirror_mode": {
    "name": "ipython",
    "version": 3
   },
   "file_extension": ".py",
   "mimetype": "text/x-python",
   "name": "python",
   "nbconvert_exporter": "python",
   "pygments_lexer": "ipython3",
   "version": "3.12.7"
  }
 },
 "nbformat": 4,
 "nbformat_minor": 2
}
